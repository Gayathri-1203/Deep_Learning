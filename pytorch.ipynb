{
  "cells": [
    {
      "cell_type": "code",
      "execution_count": 1,
      "metadata": {
        "id": "I0-LT-O4H1Nn"
      },
      "outputs": [],
      "source": [
        "import torch\n",
        "from torch import nn #importing an neural network library/module\n",
        "from torch.utils.data import DataLoader #create groups of data,pass to NN and find the o/p and compute loss(batch processing/mini batch gradient decent)\n",
        "'''\n",
        "Gradient descent - All the datapoints - compute output - compute loss - gradient descent\n",
        "stochastic Gradient descent - single datapoint - compute o/p - compute loss - gradient descent - next datapoint\n",
        "Mini batch gradient descent - create batches of data - compute ouput for each batch - gradient descnt - next batch\n",
        "'''\n",
        "from torchvision import datasets #download the dataset\n",
        "from torchvision.transforms import ToTensor #used to convert the input to torch tensor format(scaling)\n",
        "import matplotlib.pyplot as plt\n",
        "import torch.nn.functional as F #relu and sigmoid func"
      ]
    },
    {
      "cell_type": "markdown",
      "metadata": {
        "id": "VdKJlbm0Kd9c"
      },
      "source": [
        "# download the dataset"
      ]
    },
    {
      "cell_type": "code",
      "execution_count": 2,
      "metadata": {
        "id": "U1mCEo3UJ39L",
        "colab": {
          "base_uri": "https://localhost:8080/"
        },
        "outputId": "d00dd41b-f2f6-41be-89fb-fdc8196be4be"
      },
      "outputs": [
        {
          "output_type": "stream",
          "name": "stdout",
          "text": [
            "Downloading http://fashion-mnist.s3-website.eu-central-1.amazonaws.com/train-images-idx3-ubyte.gz\n",
            "Downloading http://fashion-mnist.s3-website.eu-central-1.amazonaws.com/train-images-idx3-ubyte.gz to data/FashionMNIST/raw/train-images-idx3-ubyte.gz\n"
          ]
        },
        {
          "output_type": "stream",
          "name": "stderr",
          "text": [
            "100%|██████████| 26421880/26421880 [00:02<00:00, 11000370.64it/s]\n"
          ]
        },
        {
          "output_type": "stream",
          "name": "stdout",
          "text": [
            "Extracting data/FashionMNIST/raw/train-images-idx3-ubyte.gz to data/FashionMNIST/raw\n",
            "\n",
            "Downloading http://fashion-mnist.s3-website.eu-central-1.amazonaws.com/train-labels-idx1-ubyte.gz\n",
            "Downloading http://fashion-mnist.s3-website.eu-central-1.amazonaws.com/train-labels-idx1-ubyte.gz to data/FashionMNIST/raw/train-labels-idx1-ubyte.gz\n"
          ]
        },
        {
          "output_type": "stream",
          "name": "stderr",
          "text": [
            "100%|██████████| 29515/29515 [00:00<00:00, 175168.22it/s]\n"
          ]
        },
        {
          "output_type": "stream",
          "name": "stdout",
          "text": [
            "Extracting data/FashionMNIST/raw/train-labels-idx1-ubyte.gz to data/FashionMNIST/raw\n",
            "\n",
            "Downloading http://fashion-mnist.s3-website.eu-central-1.amazonaws.com/t10k-images-idx3-ubyte.gz\n",
            "Downloading http://fashion-mnist.s3-website.eu-central-1.amazonaws.com/t10k-images-idx3-ubyte.gz to data/FashionMNIST/raw/t10k-images-idx3-ubyte.gz\n"
          ]
        },
        {
          "output_type": "stream",
          "name": "stderr",
          "text": [
            "100%|██████████| 4422102/4422102 [00:01<00:00, 3256773.35it/s]\n"
          ]
        },
        {
          "output_type": "stream",
          "name": "stdout",
          "text": [
            "Extracting data/FashionMNIST/raw/t10k-images-idx3-ubyte.gz to data/FashionMNIST/raw\n",
            "\n",
            "Downloading http://fashion-mnist.s3-website.eu-central-1.amazonaws.com/t10k-labels-idx1-ubyte.gz\n",
            "Downloading http://fashion-mnist.s3-website.eu-central-1.amazonaws.com/t10k-labels-idx1-ubyte.gz to data/FashionMNIST/raw/t10k-labels-idx1-ubyte.gz\n"
          ]
        },
        {
          "output_type": "stream",
          "name": "stderr",
          "text": [
            "100%|██████████| 5148/5148 [00:00<00:00, 6445455.82it/s]"
          ]
        },
        {
          "output_type": "stream",
          "name": "stdout",
          "text": [
            "Extracting data/FashionMNIST/raw/t10k-labels-idx1-ubyte.gz to data/FashionMNIST/raw\n",
            "\n"
          ]
        },
        {
          "output_type": "stream",
          "name": "stderr",
          "text": [
            "\n"
          ]
        }
      ],
      "source": [
        "training_data = datasets.FashionMNIST(root='data',train=True,download=True,transform=ToTensor())\n",
        "testing_data = datasets.FashionMNIST(root='data',train=False,download=True,transform=ToTensor())"
      ]
    },
    {
      "cell_type": "code",
      "execution_count": 3,
      "metadata": {
        "colab": {
          "base_uri": "https://localhost:8080/"
        },
        "id": "SThYvRvCMHVt",
        "outputId": "140e3c27-25a6-4998-ab55-e05d71c97541"
      },
      "outputs": [
        {
          "output_type": "execute_result",
          "data": {
            "text/plain": [
              "60000"
            ]
          },
          "metadata": {},
          "execution_count": 3
        }
      ],
      "source": [
        "len(training_data)"
      ]
    },
    {
      "cell_type": "code",
      "execution_count": 4,
      "metadata": {
        "colab": {
          "base_uri": "https://localhost:8080/"
        },
        "id": "Rp3yIek2MA72",
        "outputId": "55da33ff-f4e1-497b-8fb1-9fca7d0ff464"
      },
      "outputs": [
        {
          "output_type": "execute_result",
          "data": {
            "text/plain": [
              "26719"
            ]
          },
          "metadata": {},
          "execution_count": 4
        }
      ],
      "source": [
        "torch.randint(len(training_data),size=(1,)).item()"
      ]
    },
    {
      "cell_type": "code",
      "execution_count": 5,
      "metadata": {
        "colab": {
          "base_uri": "https://localhost:8080/",
          "height": 699
        },
        "id": "cTrRS1auK4qA",
        "outputId": "259fa15e-c277-482e-d238-6088d1007c69"
      },
      "outputs": [
        {
          "output_type": "display_data",
          "data": {
            "text/plain": [
              "<Figure size 800x800 with 8 Axes>"
            ],
            "image/png": "[encoded data removed]"
          },
          "metadata": {}
        }
      ],
      "source": [
        "labels_map = {\n",
        "    0: \"T-Shirt\",\n",
        "    1: \"Trouser\",\n",
        "    2: \"Pullover\",\n",
        "    3: \"Dress\",\n",
        "    4: \"Coat\",\n",
        "    5: \"Sandal\",\n",
        "    6: \"Shirt\",\n",
        "    7: \"Sneaker\",\n",
        "    8: \"Bag\",\n",
        "    9: \"Ankle Boot\",\n",
        "}\n",
        "\n",
        "figure = plt.figure(figsize=(8,8))\n",
        "cols, rows=3,3\n",
        "\n",
        "for i in range(1,rows*cols):\n",
        "  sample_index=torch.randint(len(training_data),size=(1,)).item()\n",
        "  img, label = training_data[sample_index]\n",
        "  figure.add_subplot(rows,cols,i)\n",
        "  plt.title(labels_map[label])\n",
        "  plt.imshow(img.squeeze())"
      ]
    },
    {
      "cell_type": "markdown",
      "metadata": {
        "id": "DsUX1yFrNrAM"
      },
      "source": [
        "# Batching"
      ]
    },
    {
      "cell_type": "code",
      "execution_count": 6,
      "metadata": {
        "id": "_Sf5qva8NGlE"
      },
      "outputs": [],
      "source": [
        "batch_size=64\n",
        "\n",
        "train_dataloader = DataLoader(training_data,batch_size=batch_size)\n",
        "test_dataloader = DataLoader(testing_data,batch_size=batch_size)"
      ]
    },
    {
      "cell_type": "markdown",
      "metadata": {
        "id": "g1WOhHFfOIBU"
      },
      "source": [
        "# Model creation"
      ]
    },
    {
      "cell_type": "code",
      "execution_count": 7,
      "metadata": {
        "id": "0HoYjGHQOAfF"
      },
      "outputs": [],
      "source": [
        "class modelcre(nn.Module): #\n",
        "\n",
        "  def __init__(self):\n",
        "    super(modelcre,self).__init__()\n",
        "\n",
        "    ## Init function is used to define the architecture blocks\n",
        "    self.flatten = nn.Flatten() # 28 x 28 x1 - 764 x 1 vectpor\n",
        "    self.layer1 = nn.Linear(28*28,512)\n",
        "    self.layer2 = nn.Linear(512,256)\n",
        "    self.layer3 = nn.Linear(256,10)\n",
        "\n",
        "  def forward(self,x):\n",
        "    x = self.flatten(x)\n",
        "    x = self.layer1(x)\n",
        "    x = F.relu(x) #F.sigmoid()\n",
        "    x = self.layer2(x)\n",
        "    x = F.sigmoid(x)\n",
        "    x = self.layer3(x)\n",
        "    return x"
      ]
    },
    {
      "cell_type": "code",
      "execution_count": 8,
      "metadata": {
        "id": "2-wnJOFknXVj"
      },
      "outputs": [],
      "source": [
        "if torch.cuda.is_available():\n",
        "  device='cuda' #parallel processing,slow,large data\n",
        "else:\n",
        "  device='cpu' #general purpose"
      ]
    },
    {
      "cell_type": "code",
      "execution_count": 9,
      "metadata": {
        "colab": {
          "base_uri": "https://localhost:8080/"
        },
        "id": "5HkWcWKynohP",
        "outputId": "468fa92e-b78f-46b5-936d-4da1b28f1826"
      },
      "outputs": [
        {
          "output_type": "execute_result",
          "data": {
            "text/plain": [
              "modelcre(\n",
              "  (flatten): Flatten(start_dim=1, end_dim=-1)\n",
              "  (layer1): Linear(in_features=784, out_features=512, bias=True)\n",
              "  (layer2): Linear(in_features=512, out_features=256, bias=True)\n",
              "  (layer3): Linear(in_features=256, out_features=10, bias=True)\n",
              ")"
            ]
          },
          "metadata": {},
          "execution_count": 9
        }
      ],
      "source": [
        "model= modelcre()\n",
        "model.to(device) #to check th device cuda or cpu\n",
        "model"
      ]
    },
    {
      "cell_type": "code",
      "execution_count": 10,
      "metadata": {
        "id": "9VPCYIf0IPD7"
      },
      "outputs": [],
      "source": [
        "## loss function and optimizer\n",
        "loss_fn = nn.CrossEntropyLoss() #classification,regression-mse\n",
        "optimizer = torch.optim.SGD(model.parameters(),lr = 1e-2) #socastic gradient descent,lr-learning rate 0-1"
      ]
    },
    {
      "cell_type": "code",
      "execution_count": 11,
      "metadata": {
        "id": "QeS2D0pYcGuy"
      },
      "outputs": [],
      "source": [
        "def training_loop(dataloader,model,loss_fn,optimizer): #optimizer(gradient descent)\n",
        "  model.train()\n",
        "\n",
        "  #pass every batch of data to the model\n",
        "  for batch, (X,y) in enumerate(dataloader):\n",
        "    X = X.to(device)\n",
        "    y = y.to(device)\n",
        "\n",
        "    pred = model(X)\n",
        "    loss = loss_fn(pred,y)\n",
        "    optimizer.zero_grad() #previous gradient values(zero)\n",
        "    loss.backward() #gradients compute(weights and bias, find loss,adjust the weights and bias for minimum loss)\n",
        "    optimizer.step() #sgd (update the weights)\n",
        "\n",
        "\n",
        "    if batch % 100 == 0:\n",
        "      print (f'loss : {loss.item()}') #to check the all batches(item-prints the loss for each input)"
      ]
    },
    {
      "cell_type": "code",
      "execution_count": 12,
      "metadata": {
        "id": "xC-8CG8Scgiq"
      },
      "outputs": [],
      "source": [
        "## testing the model\n",
        "def testing_loop(dataloader,model,loss_fn): #no optimizer\n",
        "  model.eval()\n",
        "  test_loss = 0 #loss percentage\n",
        "  correct = 0\n",
        "  for X,y in dataloader:\n",
        "    X = X.to(device)\n",
        "    y = y.to(device)\n",
        "\n",
        "    pred = model(X)\n",
        "    # print (pred.shape)\n",
        "    # print (pred)\n",
        "    # print (pred.argmax(1)) #the input tensor exists with multiple maximal values then the function will return the index of the first maximal element\n",
        "    # print (y) #device\n",
        "    # print (pred.argmax(1) == y)\n",
        "    # print ((pred.argmax(1) == y).type(torch.float)) #to convert into float\n",
        "    # print ((pred.argmax(1) == y).type(torch.float).sum() #prints the count of max values\n",
        "    correct += (pred.argmax(1) == y).type(torch.float).sum().item() #prints the correct values\n",
        "    test_loss += loss_fn(pred,y).item() #loss items in test data\n",
        "  test_loss = test_loss/len(dataloader) #percentage\n",
        "  print (len(dataloader.dataset))\n",
        "  accuracy = (correct/len(dataloader.dataset))*100\n",
        "  print (f'Accuracy : {accuracy} with test error {test_loss}')"
      ]
    },
    {
      "cell_type": "code",
      "execution_count": 13,
      "metadata": {
        "colab": {
          "base_uri": "https://localhost:8080/"
        },
        "id": "BWowkNOiciez",
        "outputId": "750f9f43-2a6b-412a-b42a-6622ce3deee6"
      },
      "outputs": [
        {
          "output_type": "stream",
          "name": "stdout",
          "text": [
            "loss : 2.281278133392334\n",
            "loss : 2.2907581329345703\n",
            "loss : 2.269174337387085\n",
            "loss : 2.253885507583618\n",
            "loss : 2.188595771789551\n",
            "loss : 2.1629796028137207\n",
            "loss : 2.0880303382873535\n",
            "loss : 1.9648207426071167\n",
            "loss : 1.8429203033447266\n",
            "loss : 1.7124751806259155\n",
            "10000\n",
            "Accuracy : 52.739999999999995 with test error 1.6664665755192944\n",
            " ==================== EPOCH : 0 ============================\n",
            "loss : 1.7032427787780762\n",
            "loss : 1.6112231016159058\n",
            "loss : 1.4259521961212158\n",
            "loss : 1.4474163055419922\n",
            "loss : 1.2775342464447021\n",
            "loss : 1.3010714054107666\n",
            "loss : 1.249386191368103\n",
            "loss : 1.1676079034805298\n",
            "loss : 1.1910032033920288\n",
            "loss : 1.1275867223739624\n",
            "10000\n",
            "Accuracy : 63.46000000000001 with test error 1.1007759498942429\n",
            " ==================== EPOCH : 1 ============================\n",
            "loss : 1.1705613136291504\n",
            "loss : 1.1302084922790527\n",
            "loss : 0.9600146412849426\n",
            "loss : 1.0861304998397827\n",
            "loss : 0.9464592933654785\n",
            "loss : 1.0056722164154053\n",
            "loss : 1.0030579566955566\n",
            "loss : 0.9265007376670837\n",
            "loss : 0.9524378776550293\n",
            "loss : 0.9221080541610718\n",
            "10000\n",
            "Accuracy : 69.6 with test error 0.8936028028749357\n",
            " ==================== EPOCH : 2 ============================\n"
          ]
        }
      ],
      "source": [
        "epochs = 3 #how many times you have to send data to the model\n",
        "for t in range(epochs):\n",
        "  training_loop(train_dataloader,model,loss_fn,optimizer)\n",
        "  testing_loop(test_dataloader,model,loss_fn)\n",
        "  print(f' ==================== EPOCH : {t} ============================')"
      ]
    }
  ],
  "metadata": {
    "accelerator": "GPU",
    "colab": {
      "provenance": []
    },
    "kernelspec": {
      "display_name": "Python 3",
      "name": "python3"
    },
    "language_info": {
      "name": "python"
    }
  },
  "nbformat": 4,
  "nbformat_minor": 0
}